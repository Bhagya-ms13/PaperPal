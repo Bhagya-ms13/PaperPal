{
 "cells": [
  {
   "cell_type": "code",
   "execution_count": 1,
   "id": "c65aae3d",
   "metadata": {},
   "outputs": [],
   "source": [
    "import numpy as np\n",
    "import pandas as pd"
   ]
  },
  {
   "cell_type": "code",
   "execution_count": 2,
   "id": "735ed429",
   "metadata": {},
   "outputs": [],
   "source": [
    "research1 = pd.read_csv('research1.csv')\n",
    "research2 = pd.read_csv('research2.csv')\n",
    "   "
   ]
  },
  {
   "cell_type": "code",
   "execution_count": 3,
   "id": "506b6743",
   "metadata": {},
   "outputs": [],
   "source": [
    "research = research1.merge(research2,on='titles')"
   ]
  },
  {
   "cell_type": "code",
   "execution_count": 4,
   "id": "e2fb345c",
   "metadata": {},
   "outputs": [
    {
     "data": {
      "text/html": [
       "<div>\n",
       "<style scoped>\n",
       "    .dataframe tbody tr th:only-of-type {\n",
       "        vertical-align: middle;\n",
       "    }\n",
       "\n",
       "    .dataframe tbody tr th {\n",
       "        vertical-align: top;\n",
       "    }\n",
       "\n",
       "    .dataframe thead th {\n",
       "        text-align: right;\n",
       "    }\n",
       "</style>\n",
       "<table border=\"1\" class=\"dataframe\">\n",
       "  <thead>\n",
       "    <tr style=\"text-align: right;\">\n",
       "      <th></th>\n",
       "      <th>titles</th>\n",
       "      <th>summaries</th>\n",
       "      <th>terms_x</th>\n",
       "      <th>terms_y</th>\n",
       "      <th>abstracts</th>\n",
       "    </tr>\n",
       "  </thead>\n",
       "  <tbody>\n",
       "    <tr>\n",
       "      <th>0</th>\n",
       "      <td>Survey on Semantic Stereo Matching / Semantic ...</td>\n",
       "      <td>Stereo matching is one of the widely used tech...</td>\n",
       "      <td>['cs.CV', 'cs.LG']</td>\n",
       "      <td>['cs.CV', 'cs.LG']</td>\n",
       "      <td>Stereo matching is one of the widely used tech...</td>\n",
       "    </tr>\n",
       "    <tr>\n",
       "      <th>1</th>\n",
       "      <td>Survey on Semantic Stereo Matching / Semantic ...</td>\n",
       "      <td>Stereo matching is one of the widely used tech...</td>\n",
       "      <td>['cs.CV', 'cs.LG']</td>\n",
       "      <td>['cs.CV', 'cs.LG']</td>\n",
       "      <td>Stereo matching is one of the widely used tech...</td>\n",
       "    </tr>\n",
       "    <tr>\n",
       "      <th>2</th>\n",
       "      <td>Survey on Semantic Stereo Matching / Semantic ...</td>\n",
       "      <td>Stereo matching is one of the widely used tech...</td>\n",
       "      <td>['cs.CV', 'cs.LG']</td>\n",
       "      <td>['cs.CV', 'cs.LG']</td>\n",
       "      <td>Stereo matching is one of the widely used tech...</td>\n",
       "    </tr>\n",
       "    <tr>\n",
       "      <th>3</th>\n",
       "      <td>Survey on Semantic Stereo Matching / Semantic ...</td>\n",
       "      <td>Stereo matching is one of the widely used tech...</td>\n",
       "      <td>['cs.CV', 'cs.LG']</td>\n",
       "      <td>['cs.CV', 'cs.LG']</td>\n",
       "      <td>Stereo matching is one of the widely used tech...</td>\n",
       "    </tr>\n",
       "    <tr>\n",
       "      <th>4</th>\n",
       "      <td>Survey on Semantic Stereo Matching / Semantic ...</td>\n",
       "      <td>Stereo matching is one of the widely used tech...</td>\n",
       "      <td>['cs.CV', 'cs.LG']</td>\n",
       "      <td>['cs.CV', 'cs.LG']</td>\n",
       "      <td>Stereo matching is one of the widely used tech...</td>\n",
       "    </tr>\n",
       "  </tbody>\n",
       "</table>\n",
       "</div>"
      ],
      "text/plain": [
       "                                              titles  \\\n",
       "0  Survey on Semantic Stereo Matching / Semantic ...   \n",
       "1  Survey on Semantic Stereo Matching / Semantic ...   \n",
       "2  Survey on Semantic Stereo Matching / Semantic ...   \n",
       "3  Survey on Semantic Stereo Matching / Semantic ...   \n",
       "4  Survey on Semantic Stereo Matching / Semantic ...   \n",
       "\n",
       "                                           summaries             terms_x  \\\n",
       "0  Stereo matching is one of the widely used tech...  ['cs.CV', 'cs.LG']   \n",
       "1  Stereo matching is one of the widely used tech...  ['cs.CV', 'cs.LG']   \n",
       "2  Stereo matching is one of the widely used tech...  ['cs.CV', 'cs.LG']   \n",
       "3  Stereo matching is one of the widely used tech...  ['cs.CV', 'cs.LG']   \n",
       "4  Stereo matching is one of the widely used tech...  ['cs.CV', 'cs.LG']   \n",
       "\n",
       "              terms_y                                          abstracts  \n",
       "0  ['cs.CV', 'cs.LG']  Stereo matching is one of the widely used tech...  \n",
       "1  ['cs.CV', 'cs.LG']  Stereo matching is one of the widely used tech...  \n",
       "2  ['cs.CV', 'cs.LG']  Stereo matching is one of the widely used tech...  \n",
       "3  ['cs.CV', 'cs.LG']  Stereo matching is one of the widely used tech...  \n",
       "4  ['cs.CV', 'cs.LG']  Stereo matching is one of the widely used tech...  "
      ]
     },
     "execution_count": 4,
     "metadata": {},
     "output_type": "execute_result"
    }
   ],
   "source": [
    "research.head()\n"
   ]
  },
  {
   "cell_type": "code",
   "execution_count": 5,
   "id": "6e135118",
   "metadata": {},
   "outputs": [],
   "source": [
    "column_name = 'terms_y'\n",
    "research.drop(columns=[column_name], inplace=True)"
   ]
  },
  {
   "cell_type": "code",
   "execution_count": 6,
   "id": "2d9c9e0a",
   "metadata": {},
   "outputs": [],
   "source": [
    "df = research.drop_duplicates(subset=['titles'])"
   ]
  },
  {
   "cell_type": "code",
   "execution_count": 7,
   "id": "4f6fbc0c",
   "metadata": {},
   "outputs": [
    {
     "data": {
      "text/html": [
       "<div>\n",
       "<style scoped>\n",
       "    .dataframe tbody tr th:only-of-type {\n",
       "        vertical-align: middle;\n",
       "    }\n",
       "\n",
       "    .dataframe tbody tr th {\n",
       "        vertical-align: top;\n",
       "    }\n",
       "\n",
       "    .dataframe thead th {\n",
       "        text-align: right;\n",
       "    }\n",
       "</style>\n",
       "<table border=\"1\" class=\"dataframe\">\n",
       "  <thead>\n",
       "    <tr style=\"text-align: right;\">\n",
       "      <th></th>\n",
       "      <th>titles</th>\n",
       "      <th>summaries</th>\n",
       "      <th>terms_x</th>\n",
       "      <th>abstracts</th>\n",
       "    </tr>\n",
       "  </thead>\n",
       "  <tbody>\n",
       "    <tr>\n",
       "      <th>0</th>\n",
       "      <td>Survey on Semantic Stereo Matching / Semantic ...</td>\n",
       "      <td>Stereo matching is one of the widely used tech...</td>\n",
       "      <td>['cs.CV', 'cs.LG']</td>\n",
       "      <td>Stereo matching is one of the widely used tech...</td>\n",
       "    </tr>\n",
       "    <tr>\n",
       "      <th>9</th>\n",
       "      <td>Enforcing Mutual Consistency of Hard Regions f...</td>\n",
       "      <td>In this paper, we proposed a novel mutual cons...</td>\n",
       "      <td>['cs.CV', 'cs.AI']</td>\n",
       "      <td>In this paper, we proposed a novel mutual cons...</td>\n",
       "    </tr>\n",
       "    <tr>\n",
       "      <th>13</th>\n",
       "      <td>Parameter Decoupling Strategy for Semi-supervi...</td>\n",
       "      <td>Consistency training has proven to be an advan...</td>\n",
       "      <td>['cs.CV']</td>\n",
       "      <td>Consistency training has proven to be an advan...</td>\n",
       "    </tr>\n",
       "    <tr>\n",
       "      <th>17</th>\n",
       "      <td>Background-Foreground Segmentation for Interio...</td>\n",
       "      <td>To ensure safety in automated driving, the cor...</td>\n",
       "      <td>['cs.CV', 'cs.LG']</td>\n",
       "      <td>To ensure safety in automated driving, the cor...</td>\n",
       "    </tr>\n",
       "    <tr>\n",
       "      <th>26</th>\n",
       "      <td>EdgeFlow: Achieving Practical Interactive Segm...</td>\n",
       "      <td>High-quality training data play a key role in ...</td>\n",
       "      <td>['cs.CV', 'cs.HC']</td>\n",
       "      <td>High-quality training data play a key role in ...</td>\n",
       "    </tr>\n",
       "  </tbody>\n",
       "</table>\n",
       "</div>"
      ],
      "text/plain": [
       "                                               titles  \\\n",
       "0   Survey on Semantic Stereo Matching / Semantic ...   \n",
       "9   Enforcing Mutual Consistency of Hard Regions f...   \n",
       "13  Parameter Decoupling Strategy for Semi-supervi...   \n",
       "17  Background-Foreground Segmentation for Interio...   \n",
       "26  EdgeFlow: Achieving Practical Interactive Segm...   \n",
       "\n",
       "                                            summaries             terms_x  \\\n",
       "0   Stereo matching is one of the widely used tech...  ['cs.CV', 'cs.LG']   \n",
       "9   In this paper, we proposed a novel mutual cons...  ['cs.CV', 'cs.AI']   \n",
       "13  Consistency training has proven to be an advan...           ['cs.CV']   \n",
       "17  To ensure safety in automated driving, the cor...  ['cs.CV', 'cs.LG']   \n",
       "26  High-quality training data play a key role in ...  ['cs.CV', 'cs.HC']   \n",
       "\n",
       "                                            abstracts  \n",
       "0   Stereo matching is one of the widely used tech...  \n",
       "9   In this paper, we proposed a novel mutual cons...  \n",
       "13  Consistency training has proven to be an advan...  \n",
       "17  To ensure safety in automated driving, the cor...  \n",
       "26  High-quality training data play a key role in ...  "
      ]
     },
     "execution_count": 7,
     "metadata": {},
     "output_type": "execute_result"
    }
   ],
   "source": [
    "df.head()\n"
   ]
  },
  {
   "cell_type": "code",
   "execution_count": 8,
   "id": "f16a88ef",
   "metadata": {},
   "outputs": [],
   "source": [
    "df_sampled = df.sample(frac=0.1)"
   ]
  },
  {
   "cell_type": "code",
   "execution_count": 9,
   "id": "2adfd142",
   "metadata": {},
   "outputs": [
    {
     "data": {
      "text/html": [
       "<div>\n",
       "<style scoped>\n",
       "    .dataframe tbody tr th:only-of-type {\n",
       "        vertical-align: middle;\n",
       "    }\n",
       "\n",
       "    .dataframe tbody tr th {\n",
       "        vertical-align: top;\n",
       "    }\n",
       "\n",
       "    .dataframe thead th {\n",
       "        text-align: right;\n",
       "    }\n",
       "</style>\n",
       "<table border=\"1\" class=\"dataframe\">\n",
       "  <thead>\n",
       "    <tr style=\"text-align: right;\">\n",
       "      <th></th>\n",
       "      <th>titles</th>\n",
       "      <th>summaries</th>\n",
       "      <th>terms_x</th>\n",
       "      <th>abstracts</th>\n",
       "    </tr>\n",
       "  </thead>\n",
       "  <tbody>\n",
       "    <tr>\n",
       "      <th>28017</th>\n",
       "      <td>FPGA/DNN Co-Design: An Efficient Design Method...</td>\n",
       "      <td>While embedded FPGAs are attractive platforms ...</td>\n",
       "      <td>['cs.CV']</td>\n",
       "      <td>While embedded FPGAs are attractive platforms ...</td>\n",
       "    </tr>\n",
       "    <tr>\n",
       "      <th>40875</th>\n",
       "      <td>Joint Architecture and Knowledge Distillation ...</td>\n",
       "      <td>The technique of distillation helps transform ...</td>\n",
       "      <td>['cs.CV']</td>\n",
       "      <td>The technique of distillation helps transform ...</td>\n",
       "    </tr>\n",
       "    <tr>\n",
       "      <th>23994</th>\n",
       "      <td>CoDeNet: Efficient Deployment of Input-Adaptiv...</td>\n",
       "      <td>Deploying deep learning models on embedded sys...</td>\n",
       "      <td>['cs.CV', 'eess.IV']</td>\n",
       "      <td>Deploying deep learning models on embedded sys...</td>\n",
       "    </tr>\n",
       "    <tr>\n",
       "      <th>19577</th>\n",
       "      <td>Semantic Pyramid for Image Generation</td>\n",
       "      <td>We present a novel GAN-based model that utiliz...</td>\n",
       "      <td>['cs.CV', 'cs.LG']</td>\n",
       "      <td>We present a novel GAN-based model that utiliz...</td>\n",
       "    </tr>\n",
       "    <tr>\n",
       "      <th>41911</th>\n",
       "      <td>Forming Local Intersections of Projections for...</td>\n",
       "      <td>In this paper, we propose a novel image descri...</td>\n",
       "      <td>['cs.CV']</td>\n",
       "      <td>In this paper, we propose a novel image descri...</td>\n",
       "    </tr>\n",
       "  </tbody>\n",
       "</table>\n",
       "</div>"
      ],
      "text/plain": [
       "                                                  titles  \\\n",
       "28017  FPGA/DNN Co-Design: An Efficient Design Method...   \n",
       "40875  Joint Architecture and Knowledge Distillation ...   \n",
       "23994  CoDeNet: Efficient Deployment of Input-Adaptiv...   \n",
       "19577              Semantic Pyramid for Image Generation   \n",
       "41911  Forming Local Intersections of Projections for...   \n",
       "\n",
       "                                               summaries  \\\n",
       "28017  While embedded FPGAs are attractive platforms ...   \n",
       "40875  The technique of distillation helps transform ...   \n",
       "23994  Deploying deep learning models on embedded sys...   \n",
       "19577  We present a novel GAN-based model that utiliz...   \n",
       "41911  In this paper, we propose a novel image descri...   \n",
       "\n",
       "                    terms_x                                          abstracts  \n",
       "28017             ['cs.CV']  While embedded FPGAs are attractive platforms ...  \n",
       "40875             ['cs.CV']  The technique of distillation helps transform ...  \n",
       "23994  ['cs.CV', 'eess.IV']  Deploying deep learning models on embedded sys...  \n",
       "19577    ['cs.CV', 'cs.LG']  We present a novel GAN-based model that utiliz...  \n",
       "41911             ['cs.CV']  In this paper, we propose a novel image descri...  "
      ]
     },
     "execution_count": 9,
     "metadata": {},
     "output_type": "execute_result"
    }
   ],
   "source": [
    "df_sampled.head()"
   ]
  },
  {
   "cell_type": "code",
   "execution_count": 13,
   "id": "6f8415f6",
   "metadata": {},
   "outputs": [
    {
     "name": "stdout",
     "output_type": "stream",
     "text": [
      "                                                 titles  \\\n",
      "0     FPGA/DNN Co-Design: An Efficient Design Method...   \n",
      "1     Joint Architecture and Knowledge Distillation ...   \n",
      "2     CoDeNet: Efficient Deployment of Input-Adaptiv...   \n",
      "3                 Semantic Pyramid for Image Generation   \n",
      "4     Forming Local Intersections of Projections for...   \n",
      "...                                                 ...   \n",
      "3881  Perceptual uniform descriptor and Ranking on m...   \n",
      "3882  Self-Supervised Representation Learning via Ne...   \n",
      "3883  Fourier Transform of Percoll Gradients Boosts ...   \n",
      "3884                 Adversarial Dropout Regularization   \n",
      "3885  Sampling Techniques for Large-Scale Object Det...   \n",
      "\n",
      "                                              summaries               terms_x  \\\n",
      "0     While embedded FPGAs are attractive platforms ...             ['cs.CV']   \n",
      "1     The technique of distillation helps transform ...             ['cs.CV']   \n",
      "2     Deploying deep learning models on embedded sys...  ['cs.CV', 'eess.IV']   \n",
      "3     We present a novel GAN-based model that utiliz...    ['cs.CV', 'cs.LG']   \n",
      "4     In this paper, we propose a novel image descri...             ['cs.CV']   \n",
      "...                                                 ...                   ...   \n",
      "3881  Incompatibility of image descriptor and rankin...             ['cs.CV']   \n",
      "3882  In this paper, we propose a novel self-supervi...             ['cs.CV']   \n",
      "3883  Hereditary hemolytic anemias are genetic disor...  ['cs.CV', 'eess.IV']   \n",
      "3884  We present a method for transferring neural re...             ['cs.CV']   \n",
      "3885  Efficient and reliable methods for training of...             ['cs.CV']   \n",
      "\n",
      "                                              abstracts  \n",
      "0     While embedded FPGAs are attractive platforms ...  \n",
      "1     The technique of distillation helps transform ...  \n",
      "2     Deploying deep learning models on embedded sys...  \n",
      "3     We present a novel GAN-based model that utiliz...  \n",
      "4     In this paper, we propose a novel image descri...  \n",
      "...                                                 ...  \n",
      "3881  Incompatibility of image descriptor and rankin...  \n",
      "3882  In this paper, we propose a novel self-supervi...  \n",
      "3883  Hereditary hemolytic anemias are genetic disor...  \n",
      "3884  We present a method for transferring neural re...  \n",
      "3885  Efficient and reliable methods for training of...  \n",
      "\n",
      "[3886 rows x 4 columns]\n"
     ]
    }
   ],
   "source": [
    "# Reset the index of the DataFrame to start from 0\n",
    "dp = df_sampled.reset_index(drop=True)\n",
    "\n",
    "# Print the reordered DataFrame\n",
    "print(dp)\n"
   ]
  },
  {
   "cell_type": "code",
   "execution_count": 14,
   "id": "f627181a",
   "metadata": {},
   "outputs": [
    {
     "data": {
      "text/html": [
       "<div>\n",
       "<style scoped>\n",
       "    .dataframe tbody tr th:only-of-type {\n",
       "        vertical-align: middle;\n",
       "    }\n",
       "\n",
       "    .dataframe tbody tr th {\n",
       "        vertical-align: top;\n",
       "    }\n",
       "\n",
       "    .dataframe thead th {\n",
       "        text-align: right;\n",
       "    }\n",
       "</style>\n",
       "<table border=\"1\" class=\"dataframe\">\n",
       "  <thead>\n",
       "    <tr style=\"text-align: right;\">\n",
       "      <th></th>\n",
       "      <th>titles</th>\n",
       "      <th>summaries</th>\n",
       "      <th>terms_x</th>\n",
       "      <th>abstracts</th>\n",
       "    </tr>\n",
       "  </thead>\n",
       "  <tbody>\n",
       "    <tr>\n",
       "      <th>0</th>\n",
       "      <td>FPGA/DNN Co-Design: An Efficient Design Method...</td>\n",
       "      <td>While embedded FPGAs are attractive platforms ...</td>\n",
       "      <td>['cs.CV']</td>\n",
       "      <td>While embedded FPGAs are attractive platforms ...</td>\n",
       "    </tr>\n",
       "    <tr>\n",
       "      <th>1</th>\n",
       "      <td>Joint Architecture and Knowledge Distillation ...</td>\n",
       "      <td>The technique of distillation helps transform ...</td>\n",
       "      <td>['cs.CV']</td>\n",
       "      <td>The technique of distillation helps transform ...</td>\n",
       "    </tr>\n",
       "    <tr>\n",
       "      <th>2</th>\n",
       "      <td>CoDeNet: Efficient Deployment of Input-Adaptiv...</td>\n",
       "      <td>Deploying deep learning models on embedded sys...</td>\n",
       "      <td>['cs.CV', 'eess.IV']</td>\n",
       "      <td>Deploying deep learning models on embedded sys...</td>\n",
       "    </tr>\n",
       "    <tr>\n",
       "      <th>3</th>\n",
       "      <td>Semantic Pyramid for Image Generation</td>\n",
       "      <td>We present a novel GAN-based model that utiliz...</td>\n",
       "      <td>['cs.CV', 'cs.LG']</td>\n",
       "      <td>We present a novel GAN-based model that utiliz...</td>\n",
       "    </tr>\n",
       "    <tr>\n",
       "      <th>4</th>\n",
       "      <td>Forming Local Intersections of Projections for...</td>\n",
       "      <td>In this paper, we propose a novel image descri...</td>\n",
       "      <td>['cs.CV']</td>\n",
       "      <td>In this paper, we propose a novel image descri...</td>\n",
       "    </tr>\n",
       "  </tbody>\n",
       "</table>\n",
       "</div>"
      ],
      "text/plain": [
       "                                              titles  \\\n",
       "0  FPGA/DNN Co-Design: An Efficient Design Method...   \n",
       "1  Joint Architecture and Knowledge Distillation ...   \n",
       "2  CoDeNet: Efficient Deployment of Input-Adaptiv...   \n",
       "3              Semantic Pyramid for Image Generation   \n",
       "4  Forming Local Intersections of Projections for...   \n",
       "\n",
       "                                           summaries               terms_x  \\\n",
       "0  While embedded FPGAs are attractive platforms ...             ['cs.CV']   \n",
       "1  The technique of distillation helps transform ...             ['cs.CV']   \n",
       "2  Deploying deep learning models on embedded sys...  ['cs.CV', 'eess.IV']   \n",
       "3  We present a novel GAN-based model that utiliz...    ['cs.CV', 'cs.LG']   \n",
       "4  In this paper, we propose a novel image descri...             ['cs.CV']   \n",
       "\n",
       "                                           abstracts  \n",
       "0  While embedded FPGAs are attractive platforms ...  \n",
       "1  The technique of distillation helps transform ...  \n",
       "2  Deploying deep learning models on embedded sys...  \n",
       "3  We present a novel GAN-based model that utiliz...  \n",
       "4  In this paper, we propose a novel image descri...  "
      ]
     },
     "execution_count": 14,
     "metadata": {},
     "output_type": "execute_result"
    }
   ],
   "source": [
    "dp.head()"
   ]
  },
  {
   "cell_type": "code",
   "execution_count": 15,
   "id": "d4947bde",
   "metadata": {},
   "outputs": [
    {
     "data": {
      "text/plain": [
       "0"
      ]
     },
     "execution_count": 15,
     "metadata": {},
     "output_type": "execute_result"
    }
   ],
   "source": [
    "dp.duplicated().sum()"
   ]
  },
  {
   "cell_type": "code",
   "execution_count": 16,
   "id": "3ae0534a",
   "metadata": {},
   "outputs": [],
   "source": [
    "from sklearn.feature_extraction.text import TfidfVectorizer\n",
    "from sklearn.metrics.pairwise import linear_kernel"
   ]
  },
  {
   "cell_type": "code",
   "execution_count": 17,
   "id": "dd1df9d1",
   "metadata": {},
   "outputs": [],
   "source": [
    "dp['text'] = dp['titles'] + ' ' + dp['summaries'] + ' ' + dp['abstracts'] + ' ' + dp['terms_x'] "
   ]
  },
  {
   "cell_type": "code",
   "execution_count": 18,
   "id": "e43cbe30",
   "metadata": {},
   "outputs": [
    {
     "data": {
      "text/html": [
       "<div>\n",
       "<style scoped>\n",
       "    .dataframe tbody tr th:only-of-type {\n",
       "        vertical-align: middle;\n",
       "    }\n",
       "\n",
       "    .dataframe tbody tr th {\n",
       "        vertical-align: top;\n",
       "    }\n",
       "\n",
       "    .dataframe thead th {\n",
       "        text-align: right;\n",
       "    }\n",
       "</style>\n",
       "<table border=\"1\" class=\"dataframe\">\n",
       "  <thead>\n",
       "    <tr style=\"text-align: right;\">\n",
       "      <th></th>\n",
       "      <th>titles</th>\n",
       "      <th>summaries</th>\n",
       "      <th>terms_x</th>\n",
       "      <th>abstracts</th>\n",
       "      <th>text</th>\n",
       "    </tr>\n",
       "  </thead>\n",
       "  <tbody>\n",
       "    <tr>\n",
       "      <th>0</th>\n",
       "      <td>FPGA/DNN Co-Design: An Efficient Design Method...</td>\n",
       "      <td>While embedded FPGAs are attractive platforms ...</td>\n",
       "      <td>['cs.CV']</td>\n",
       "      <td>While embedded FPGAs are attractive platforms ...</td>\n",
       "      <td>FPGA/DNN Co-Design: An Efficient Design Method...</td>\n",
       "    </tr>\n",
       "    <tr>\n",
       "      <th>1</th>\n",
       "      <td>Joint Architecture and Knowledge Distillation ...</td>\n",
       "      <td>The technique of distillation helps transform ...</td>\n",
       "      <td>['cs.CV']</td>\n",
       "      <td>The technique of distillation helps transform ...</td>\n",
       "      <td>Joint Architecture and Knowledge Distillation ...</td>\n",
       "    </tr>\n",
       "    <tr>\n",
       "      <th>2</th>\n",
       "      <td>CoDeNet: Efficient Deployment of Input-Adaptiv...</td>\n",
       "      <td>Deploying deep learning models on embedded sys...</td>\n",
       "      <td>['cs.CV', 'eess.IV']</td>\n",
       "      <td>Deploying deep learning models on embedded sys...</td>\n",
       "      <td>CoDeNet: Efficient Deployment of Input-Adaptiv...</td>\n",
       "    </tr>\n",
       "    <tr>\n",
       "      <th>3</th>\n",
       "      <td>Semantic Pyramid for Image Generation</td>\n",
       "      <td>We present a novel GAN-based model that utiliz...</td>\n",
       "      <td>['cs.CV', 'cs.LG']</td>\n",
       "      <td>We present a novel GAN-based model that utiliz...</td>\n",
       "      <td>Semantic Pyramid for Image Generation We prese...</td>\n",
       "    </tr>\n",
       "    <tr>\n",
       "      <th>4</th>\n",
       "      <td>Forming Local Intersections of Projections for...</td>\n",
       "      <td>In this paper, we propose a novel image descri...</td>\n",
       "      <td>['cs.CV']</td>\n",
       "      <td>In this paper, we propose a novel image descri...</td>\n",
       "      <td>Forming Local Intersections of Projections for...</td>\n",
       "    </tr>\n",
       "  </tbody>\n",
       "</table>\n",
       "</div>"
      ],
      "text/plain": [
       "                                              titles  \\\n",
       "0  FPGA/DNN Co-Design: An Efficient Design Method...   \n",
       "1  Joint Architecture and Knowledge Distillation ...   \n",
       "2  CoDeNet: Efficient Deployment of Input-Adaptiv...   \n",
       "3              Semantic Pyramid for Image Generation   \n",
       "4  Forming Local Intersections of Projections for...   \n",
       "\n",
       "                                           summaries               terms_x  \\\n",
       "0  While embedded FPGAs are attractive platforms ...             ['cs.CV']   \n",
       "1  The technique of distillation helps transform ...             ['cs.CV']   \n",
       "2  Deploying deep learning models on embedded sys...  ['cs.CV', 'eess.IV']   \n",
       "3  We present a novel GAN-based model that utiliz...    ['cs.CV', 'cs.LG']   \n",
       "4  In this paper, we propose a novel image descri...             ['cs.CV']   \n",
       "\n",
       "                                           abstracts  \\\n",
       "0  While embedded FPGAs are attractive platforms ...   \n",
       "1  The technique of distillation helps transform ...   \n",
       "2  Deploying deep learning models on embedded sys...   \n",
       "3  We present a novel GAN-based model that utiliz...   \n",
       "4  In this paper, we propose a novel image descri...   \n",
       "\n",
       "                                                text  \n",
       "0  FPGA/DNN Co-Design: An Efficient Design Method...  \n",
       "1  Joint Architecture and Knowledge Distillation ...  \n",
       "2  CoDeNet: Efficient Deployment of Input-Adaptiv...  \n",
       "3  Semantic Pyramid for Image Generation We prese...  \n",
       "4  Forming Local Intersections of Projections for...  "
      ]
     },
     "execution_count": 18,
     "metadata": {},
     "output_type": "execute_result"
    }
   ],
   "source": [
    "dp.head()"
   ]
  },
  {
   "cell_type": "code",
   "execution_count": 19,
   "id": "ddf5c3e9",
   "metadata": {},
   "outputs": [],
   "source": [
    "tfidf_vectorizer = TfidfVectorizer(stop_words='english')"
   ]
  },
  {
   "cell_type": "code",
   "execution_count": 21,
   "id": "94746b08",
   "metadata": {},
   "outputs": [],
   "source": [
    "tfidf_matrix = tfidf_vectorizer.fit_transform(dp['text'])"
   ]
  },
  {
   "cell_type": "code",
   "execution_count": 22,
   "id": "5a6e20e8",
   "metadata": {},
   "outputs": [
    {
     "data": {
      "text/html": [
       "<div>\n",
       "<style scoped>\n",
       "    .dataframe tbody tr th:only-of-type {\n",
       "        vertical-align: middle;\n",
       "    }\n",
       "\n",
       "    .dataframe tbody tr th {\n",
       "        vertical-align: top;\n",
       "    }\n",
       "\n",
       "    .dataframe thead th {\n",
       "        text-align: right;\n",
       "    }\n",
       "</style>\n",
       "<table border=\"1\" class=\"dataframe\">\n",
       "  <thead>\n",
       "    <tr style=\"text-align: right;\">\n",
       "      <th></th>\n",
       "      <th>titles</th>\n",
       "      <th>summaries</th>\n",
       "      <th>terms_x</th>\n",
       "      <th>abstracts</th>\n",
       "      <th>text</th>\n",
       "    </tr>\n",
       "  </thead>\n",
       "  <tbody>\n",
       "    <tr>\n",
       "      <th>0</th>\n",
       "      <td>FPGA/DNN Co-Design: An Efficient Design Method...</td>\n",
       "      <td>While embedded FPGAs are attractive platforms ...</td>\n",
       "      <td>['cs.CV']</td>\n",
       "      <td>While embedded FPGAs are attractive platforms ...</td>\n",
       "      <td>FPGA/DNN Co-Design: An Efficient Design Method...</td>\n",
       "    </tr>\n",
       "    <tr>\n",
       "      <th>1</th>\n",
       "      <td>Joint Architecture and Knowledge Distillation ...</td>\n",
       "      <td>The technique of distillation helps transform ...</td>\n",
       "      <td>['cs.CV']</td>\n",
       "      <td>The technique of distillation helps transform ...</td>\n",
       "      <td>Joint Architecture and Knowledge Distillation ...</td>\n",
       "    </tr>\n",
       "    <tr>\n",
       "      <th>2</th>\n",
       "      <td>CoDeNet: Efficient Deployment of Input-Adaptiv...</td>\n",
       "      <td>Deploying deep learning models on embedded sys...</td>\n",
       "      <td>['cs.CV', 'eess.IV']</td>\n",
       "      <td>Deploying deep learning models on embedded sys...</td>\n",
       "      <td>CoDeNet: Efficient Deployment of Input-Adaptiv...</td>\n",
       "    </tr>\n",
       "    <tr>\n",
       "      <th>3</th>\n",
       "      <td>Semantic Pyramid for Image Generation</td>\n",
       "      <td>We present a novel GAN-based model that utiliz...</td>\n",
       "      <td>['cs.CV', 'cs.LG']</td>\n",
       "      <td>We present a novel GAN-based model that utiliz...</td>\n",
       "      <td>Semantic Pyramid for Image Generation We prese...</td>\n",
       "    </tr>\n",
       "    <tr>\n",
       "      <th>4</th>\n",
       "      <td>Forming Local Intersections of Projections for...</td>\n",
       "      <td>In this paper, we propose a novel image descri...</td>\n",
       "      <td>['cs.CV']</td>\n",
       "      <td>In this paper, we propose a novel image descri...</td>\n",
       "      <td>Forming Local Intersections of Projections for...</td>\n",
       "    </tr>\n",
       "  </tbody>\n",
       "</table>\n",
       "</div>"
      ],
      "text/plain": [
       "                                              titles  \\\n",
       "0  FPGA/DNN Co-Design: An Efficient Design Method...   \n",
       "1  Joint Architecture and Knowledge Distillation ...   \n",
       "2  CoDeNet: Efficient Deployment of Input-Adaptiv...   \n",
       "3              Semantic Pyramid for Image Generation   \n",
       "4  Forming Local Intersections of Projections for...   \n",
       "\n",
       "                                           summaries               terms_x  \\\n",
       "0  While embedded FPGAs are attractive platforms ...             ['cs.CV']   \n",
       "1  The technique of distillation helps transform ...             ['cs.CV']   \n",
       "2  Deploying deep learning models on embedded sys...  ['cs.CV', 'eess.IV']   \n",
       "3  We present a novel GAN-based model that utiliz...    ['cs.CV', 'cs.LG']   \n",
       "4  In this paper, we propose a novel image descri...             ['cs.CV']   \n",
       "\n",
       "                                           abstracts  \\\n",
       "0  While embedded FPGAs are attractive platforms ...   \n",
       "1  The technique of distillation helps transform ...   \n",
       "2  Deploying deep learning models on embedded sys...   \n",
       "3  We present a novel GAN-based model that utiliz...   \n",
       "4  In this paper, we propose a novel image descri...   \n",
       "\n",
       "                                                text  \n",
       "0  FPGA/DNN Co-Design: An Efficient Design Method...  \n",
       "1  Joint Architecture and Knowledge Distillation ...  \n",
       "2  CoDeNet: Efficient Deployment of Input-Adaptiv...  \n",
       "3  Semantic Pyramid for Image Generation We prese...  \n",
       "4  Forming Local Intersections of Projections for...  "
      ]
     },
     "execution_count": 22,
     "metadata": {},
     "output_type": "execute_result"
    }
   ],
   "source": [
    "dp.head()"
   ]
  },
  {
   "cell_type": "code",
   "execution_count": 23,
   "id": "2d17e96a",
   "metadata": {},
   "outputs": [],
   "source": [
    "from sklearn.feature_extraction.text import CountVectorizer"
   ]
  },
  {
   "cell_type": "code",
   "execution_count": 24,
   "id": "66f59676",
   "metadata": {},
   "outputs": [],
   "source": [
    "from sklearn.metrics.pairwise import cosine_similarity\n",
    "from scipy.sparse import csr_matrix"
   ]
  },
  {
   "cell_type": "code",
   "execution_count": 25,
   "id": "8b0cee5f",
   "metadata": {},
   "outputs": [],
   "source": [
    "tfidf_vectorizer = TfidfVectorizer(stop_words='english')"
   ]
  },
  {
   "cell_type": "code",
   "execution_count": 26,
   "id": "f42a3b2f",
   "metadata": {},
   "outputs": [],
   "source": [
    "tfidf_matrix = tfidf_vectorizer.fit_transform(dp['text'])"
   ]
  },
  {
   "cell_type": "code",
   "execution_count": 27,
   "id": "5b7b682e",
   "metadata": {},
   "outputs": [],
   "source": [
    "cosine_sim_sparse = cosine_similarity(tfidf_matrix, tfidf_matrix)"
   ]
  },
  {
   "cell_type": "code",
   "execution_count": 28,
   "id": "e32d09d7",
   "metadata": {},
   "outputs": [],
   "source": [
    "tfidf_matrix = tfidf_vectorizer.fit_transform(dp['text'])"
   ]
  },
  {
   "cell_type": "code",
   "execution_count": 29,
   "id": "5923f5fc",
   "metadata": {},
   "outputs": [],
   "source": [
    "\n",
    "cosine_sim_sparse = cosine_similarity(tfidf_matrix, tfidf_matrix)"
   ]
  },
  {
   "cell_type": "code",
   "execution_count": 30,
   "id": "0bf95faa",
   "metadata": {},
   "outputs": [
    {
     "name": "stdout",
     "output_type": "stream",
     "text": [
      "[[1.         0.03607591 0.08752257 ... 0.00447055 0.01721697 0.03120857]\n",
      " [0.03607591 1.         0.06208572 ... 0.02601077 0.03938713 0.02023015]\n",
      " [0.08752257 0.06208572 1.         ... 0.02812136 0.02498648 0.04024329]\n",
      " ...\n",
      " [0.00447055 0.02601077 0.02812136 ... 1.         0.05979951 0.02327107]\n",
      " [0.01721697 0.03938713 0.02498648 ... 0.05979951 1.         0.01073517]\n",
      " [0.03120857 0.02023015 0.04024329 ... 0.02327107 0.01073517 1.        ]]\n"
     ]
    }
   ],
   "source": [
    "print(cosine_sim_sparse)"
   ]
  },
  {
   "cell_type": "code",
   "execution_count": 37,
   "id": "d456289a",
   "metadata": {},
   "outputs": [],
   "source": [
    "def recommend_paper(title, cosine_sim_sparse=cosine_sim_sparse):\n",
    "    filtered_df = dp[dp['titles'] == title]\n",
    "    if filtered_df.empty:\n",
    "        print(\"No paper with the title '{}' found.\".format(title))\n",
    "        return None\n",
    "    \n",
    "    idx = filtered_df.index[0]\n",
    "    sim_scores = list(enumerate(cosine_sim_sparse[idx]))\n",
    "    sim_scores = sorted(sim_scores, key=lambda x: x[1], reverse=True)\n",
    "    sim_scores = sim_scores[1:11]  # Top 10 similar papers\n",
    "    paper_indices = [i[0] for i in sim_scores]\n",
    "    return dp.iloc[paper_indices]"
   ]
  },
  {
   "cell_type": "code",
   "execution_count": 38,
   "id": "45e6014d",
   "metadata": {},
   "outputs": [
    {
     "name": "stdout",
     "output_type": "stream",
     "text": [
      "Title of the first research paper: FPGA/DNN Co-Design: An Efficient Design Methodology for IoT Intelligence on the Edge\n"
     ]
    }
   ],
   "source": [
    "first_paper_title = dp.iloc[0]['titles']\n",
    "print(\"Title of the first research paper:\", first_paper_title)\n"
   ]
  },
  {
   "cell_type": "code",
   "execution_count": 39,
   "id": "ef6c8eac",
   "metadata": {},
   "outputs": [],
   "source": [
    "recommendations = recommend_paper('FPGA/DNN Co-Design: An Efficient Design Methodology for IoT Intelligence on the Edge')"
   ]
  },
  {
   "cell_type": "code",
   "execution_count": 40,
   "id": "439109e5",
   "metadata": {},
   "outputs": [
    {
     "name": "stdout",
     "output_type": "stream",
     "text": [
      "                                                 titles\n",
      "995   SkyNet: A Champion Model for DAC-SDC on Low Po...\n",
      "983   Structure of Deep Neural Networks with a Prior...\n",
      "3732  Utilizing Explainable AI for Quantization and ...\n",
      "627   Uncertainty Propagation in Deep Neural Network...\n",
      "2125  Automated Design Space Exploration for optimis...\n",
      "2328  Efficient Algorithms for Device Placement of D...\n",
      "860   Energy-Efficient Model Compression and Splitti...\n",
      "1322        Frequency learning for image classification\n",
      "2757  Efficient non-uniform quantizer for quantized ...\n",
      "1903                     Efficient Deep Neural Networks\n"
     ]
    }
   ],
   "source": [
    "print(recommendations[['titles']])"
   ]
  },
  {
   "cell_type": "code",
   "execution_count": 41,
   "id": "ad07b8db",
   "metadata": {},
   "outputs": [],
   "source": [
    "import pickle"
   ]
  },
  {
   "cell_type": "code",
   "execution_count": 43,
   "id": "47f84588",
   "metadata": {},
   "outputs": [],
   "source": [
    "pickle.dump(dp,open('research.pkl','wb'))"
   ]
  },
  {
   "cell_type": "code",
   "execution_count": 45,
   "id": "76193526",
   "metadata": {},
   "outputs": [
    {
     "data": {
      "text/plain": [
       "array(['FPGA/DNN Co-Design: An Efficient Design Methodology for IoT Intelligence on the Edge',\n",
       "       'Joint Architecture and Knowledge Distillation in CNN for Chinese Text Recognition',\n",
       "       'CoDeNet: Efficient Deployment of Input-Adaptive Object Detection on Embedded FPGAs',\n",
       "       ...,\n",
       "       'Fourier Transform of Percoll Gradients Boosts CNN Classification of Hereditary Hemolytic Anemias',\n",
       "       'Adversarial Dropout Regularization',\n",
       "       'Sampling Techniques for Large-Scale Object Detection from Sparsely Annotated Objects'],\n",
       "      dtype=object)"
      ]
     },
     "execution_count": 45,
     "metadata": {},
     "output_type": "execute_result"
    }
   ],
   "source": [
    "dp['titles'].values"
   ]
  },
  {
   "cell_type": "code",
   "execution_count": 46,
   "id": "7dc49457",
   "metadata": {},
   "outputs": [],
   "source": [
    "pickle.dump(dp.to_dict(),open('research_dict.pkl','wb'))"
   ]
  },
  {
   "cell_type": "code",
   "execution_count": 47,
   "id": "cc6c01ee",
   "metadata": {},
   "outputs": [
    {
     "ename": "NameError",
     "evalue": "name 'similarity' is not defined",
     "output_type": "error",
     "traceback": [
      "\u001b[1;31m---------------------------------------------------------------------------\u001b[0m",
      "\u001b[1;31mNameError\u001b[0m                                 Traceback (most recent call last)",
      "\u001b[1;32m~\\AppData\\Local\\Temp\\ipykernel_28280\\3696703621.py\u001b[0m in \u001b[0;36m<module>\u001b[1;34m\u001b[0m\n\u001b[1;32m----> 1\u001b[1;33m \u001b[0mpickle\u001b[0m\u001b[1;33m.\u001b[0m\u001b[0mdump\u001b[0m\u001b[1;33m(\u001b[0m\u001b[0msimilarity\u001b[0m\u001b[1;33m,\u001b[0m\u001b[0mopen\u001b[0m\u001b[1;33m(\u001b[0m\u001b[1;34m'similarity.pkl'\u001b[0m\u001b[1;33m,\u001b[0m\u001b[1;34m'wb'\u001b[0m\u001b[1;33m)\u001b[0m\u001b[1;33m)\u001b[0m\u001b[1;33m\u001b[0m\u001b[1;33m\u001b[0m\u001b[0m\n\u001b[0m",
      "\u001b[1;31mNameError\u001b[0m: name 'similarity' is not defined"
     ]
    }
   ],
   "source": [
    "pickle.dump(similarity,open('similarity.pkl','wb'))"
   ]
  },
  {
   "cell_type": "code",
   "execution_count": 48,
   "id": "66d9304a",
   "metadata": {},
   "outputs": [],
   "source": [
    "from sklearn.feature_extraction.text import CountVectorizer\n",
    "cv = CountVectorizer(max_features=5000,stop_words='english')"
   ]
  },
  {
   "cell_type": "code",
   "execution_count": 54,
   "id": "9c5c4aba",
   "metadata": {},
   "outputs": [],
   "source": [
    "vectors = cv.fit_transform(dp['text']).toarray()"
   ]
  },
  {
   "cell_type": "code",
   "execution_count": 55,
   "id": "da244f8b",
   "metadata": {},
   "outputs": [
    {
     "data": {
      "text/plain": [
       "array([[0, 0, 0, ..., 0, 0, 0],\n",
       "       [0, 0, 0, ..., 0, 0, 0],\n",
       "       [0, 0, 2, ..., 0, 0, 0],\n",
       "       ...,\n",
       "       [0, 0, 0, ..., 0, 0, 0],\n",
       "       [0, 0, 0, ..., 0, 0, 0],\n",
       "       [0, 0, 0, ..., 0, 0, 0]], dtype=int64)"
      ]
     },
     "execution_count": 55,
     "metadata": {},
     "output_type": "execute_result"
    }
   ],
   "source": [
    "vectors"
   ]
  },
  {
   "cell_type": "code",
   "execution_count": 56,
   "id": "f5bffc23",
   "metadata": {},
   "outputs": [],
   "source": [
    "from sklearn.metrics.pairwise import cosine_similarity"
   ]
  },
  {
   "cell_type": "code",
   "execution_count": 57,
   "id": "087f954b",
   "metadata": {},
   "outputs": [],
   "source": [
    "similarity = cosine_similarity(vectors)"
   ]
  },
  {
   "cell_type": "code",
   "execution_count": 59,
   "id": "66f5915a",
   "metadata": {},
   "outputs": [
    {
     "data": {
      "text/plain": [
       "[(995, 0.48181241135848574),\n",
       " (983, 0.2715163922647971),\n",
       " (860, 0.26338624147983497),\n",
       " (2125, 0.23987489501504408),\n",
       " (823, 0.2385097563090336)]"
      ]
     },
     "execution_count": 59,
     "metadata": {},
     "output_type": "execute_result"
    }
   ],
   "source": [
    "sorted(list(enumerate(similarity[0])),reverse=True,key=lambda x:x[1])[1:6]"
   ]
  },
  {
   "cell_type": "code",
   "execution_count": 67,
   "id": "88bdfa21",
   "metadata": {},
   "outputs": [],
   "source": [
    "def recommend(res):\n",
    "    research_index = dp[dp['titles'] == res].index[0]\n",
    "    distances = similarity[research_index]\n",
    "    research_list = sorted(list(enumerate(similarity[0])),reverse=True,key=lambda x:x[1])[1:6]\n",
    "    for i in research_list:\n",
    "        print(dp.iloc[i[0]].titles)"
   ]
  },
  {
   "cell_type": "code",
   "execution_count": 68,
   "id": "74094123",
   "metadata": {},
   "outputs": [
    {
     "name": "stdout",
     "output_type": "stream",
     "text": [
      "SkyNet: A Champion Model for DAC-SDC on Low Power Object Detection\n",
      "Structure of Deep Neural Networks with a Priori Information in Wireless Tasks\n",
      "Energy-Efficient Model Compression and Splitting for Collaborative Inference Over Time-Varying Channels\n",
      "Automated Design Space Exploration for optimised Deployment of DNN on Arm Cortex-A CPUs\n",
      "Piracy-Resistant DNN Watermarking by Block-Wise Image Transformation with Secret Key\n"
     ]
    }
   ],
   "source": [
    "recommend('FPGA/DNN Co-Design: An Efficient Design Methodology for IoT Intelligence on the Edge')"
   ]
  },
  {
   "cell_type": "code",
   "execution_count": 69,
   "id": "ca1b15f3",
   "metadata": {},
   "outputs": [],
   "source": [
    "pickle.dump(similarity,open('similarity.pkl','wb'))"
   ]
  },
  {
   "cell_type": "code",
   "execution_count": null,
   "id": "2b384f49",
   "metadata": {},
   "outputs": [],
   "source": []
  }
 ],
 "metadata": {
  "kernelspec": {
   "display_name": "Python 3 (ipykernel)",
   "language": "python",
   "name": "python3"
  },
  "language_info": {
   "codemirror_mode": {
    "name": "ipython",
    "version": 3
   },
   "file_extension": ".py",
   "mimetype": "text/x-python",
   "name": "python",
   "nbconvert_exporter": "python",
   "pygments_lexer": "ipython3",
   "version": "3.9.13"
  }
 },
 "nbformat": 4,
 "nbformat_minor": 5
}
